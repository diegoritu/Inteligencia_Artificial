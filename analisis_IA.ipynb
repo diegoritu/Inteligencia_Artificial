{
 "cells": [
  {
   "cell_type": "markdown",
   "source": [
    "_Se importa el dataset con Pandas y se definen los nombres de las columnas, para poder referenciarlas posteriormente_"
   ],
   "metadata": {}
  },
  {
   "cell_type": "code",
   "execution_count": null,
   "source": [
    "import pandas as pd\r\n",
    "pd.set_option('display.max_columns', None)\r\n",
    "\r\n",
    "data_frame = pd.read_csv(\"Accidente.csv\", header = None)\r\n",
    "headers = [\"ID\",\"Source\",\"TMC\",\"Severity\",\"Start_Time\",\"End_Time\",\"Start_Lat\",\"Start_Lng\",\"End_Lat\",\"End_Lng\",\"Distance(mi)\",\"Description\",\r\n",
    "\"Number\",\"Street\",\"Side\",\"City\",\"County\",\"State\",\"Zipcode\",\"Country\",\"Timezone\",\"Airport_Code\",\"Weather_Timestamp\",\"Temperature(F)\",\r\n",
    "\"Wind_Chill(F)\",\"Humidity(%)\",\"Pressure(in)\",\"Visibility(mi)\",\"Wind_Direction\",\"Wind_Speed(mph)\",\"Precipitation(in)\",\"Weather_Condition\",\r\n",
    "\"Amenity\",\"Bump\",\"Crossing\",\"Give_Way\",\"Junction\",\"No_Exit\",\"Railway\",\"Roundabout\",\"Station\",\"Stop\",\"Traffic_Calming\",\"Traffic_Signal\",\r\n",
    "\"Turning_Loop\",\"Sunrise_Sunset\",\"Civil_Twilight\",\"Nautical_Twilight\",\"Astronomical_Twilight\"]\r\n",
    "data_frame.columns = headers"
   ],
   "outputs": [],
   "metadata": {}
  }
 ],
 "metadata": {
  "orig_nbformat": 4,
  "language_info": {
   "name": "python",
   "version": "3.9.6",
   "mimetype": "text/x-python",
   "codemirror_mode": {
    "name": "ipython",
    "version": 3
   },
   "pygments_lexer": "ipython3",
   "nbconvert_exporter": "python",
   "file_extension": ".py"
  },
  "kernelspec": {
   "name": "python3",
   "display_name": "Python 3.9.6 64-bit"
  },
  "interpreter": {
   "hash": "02de5609ef162b6bcc51dd429fd31b9a1f163c414526741362218fd7f2e354ad"
  }
 },
 "nbformat": 4,
 "nbformat_minor": 2
}