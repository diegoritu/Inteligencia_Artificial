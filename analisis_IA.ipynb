{
 "cells": [
  {
   "cell_type": "markdown",
   "metadata": {},
   "source": [
    "# <ins> Análisis de datos de accidentes viales </ins>"
   ]
  },
  {
   "cell_type": "markdown",
   "metadata": {},
   "source": [
    "## 1- Importando el dataset"
   ]
  },
  {
   "cell_type": "markdown",
   "metadata": {},
   "source": [
    "### _Se importa el dataset con Pandas y se definen los nombres de las columnas, para poder referenciarlas posteriormente._"
   ]
  },
  {
   "cell_type": "code",
   "execution_count": 1,
   "metadata": {},
   "outputs": [],
   "source": [
    "%matplotlib inline\n",
    "import pandas as pd\n",
    "from sklearn import svm\n",
    "from sklearn.metrics import classification_report, confusion_matrix, accuracy_score, f1_score, roc_curve\n",
    "from sklearn.model_selection import train_test_split, GridSearchCV\n",
    "from matplotlib import pyplot as plt\n",
    "import seaborn as sns\n",
    "import numpy as np\n",
    "\n",
    "\n",
    "pd.set_option('display.max_columns', None)\n",
    "\n",
    "#Importamos solamente los atributos que nos interesa analizar.\n",
    "data_frame = pd.read_csv(\"Accidente.csv\", header=0 ,usecols=[\"Severity\",\"Junction\", \"Stop\", \"Traffic_Signal\",\n",
    " \"Sunrise_Sunset\",\"Visibility(mi)\", \"Pressure(in)\",\"Humidity(%)\",\"Wind_Speed(mph)\", \"Distance(mi)\", \"Crossing\", \"Railway\", \"Start_Time\"])\n",
    "\n",
    "#data_frame = pd.read_csv(\"Accidente.csv\", header=0 ,usecols=[\"Severity\",\"Junction\", \"Stop\", \"Traffic_Signal\", \"Sunrise_Sunset\"])\n",
    "\n",
    "#Definimos la semilla que se utilizará a lo largo del proyecto.\n",
    "random_state=42"
   ]
  },
  {
   "cell_type": "markdown",
   "metadata": {},
   "source": [
    "## 2- Data Processing."
   ]
  },
  {
   "cell_type": "markdown",
   "metadata": {},
   "source": [
    "### _Se aplica One-Hot-Encoding para tratar los datos categóricos de forma adecuada para los modelos._"
   ]
  },
  {
   "cell_type": "code",
   "execution_count": 2,
   "metadata": {},
   "outputs": [
    {
     "data": {
      "text/html": [
       "<div>\n",
       "<style scoped>\n",
       "    .dataframe tbody tr th:only-of-type {\n",
       "        vertical-align: middle;\n",
       "    }\n",
       "\n",
       "    .dataframe tbody tr th {\n",
       "        vertical-align: top;\n",
       "    }\n",
       "\n",
       "    .dataframe thead th {\n",
       "        text-align: right;\n",
       "    }\n",
       "</style>\n",
       "<table border=\"1\" class=\"dataframe\">\n",
       "  <thead>\n",
       "    <tr style=\"text-align: right;\">\n",
       "      <th></th>\n",
       "      <th>Severity</th>\n",
       "      <th>Start_Time</th>\n",
       "      <th>Distance(mi)</th>\n",
       "      <th>Humidity(%)</th>\n",
       "      <th>Pressure(in)</th>\n",
       "      <th>Visibility(mi)</th>\n",
       "      <th>Wind_Speed(mph)</th>\n",
       "      <th>Crossing</th>\n",
       "      <th>Railway</th>\n",
       "      <th>Junction_ False</th>\n",
       "      <th>Junction_ True</th>\n",
       "      <th>Stop_False</th>\n",
       "      <th>Stop_True</th>\n",
       "      <th>Traffic_Signal_False</th>\n",
       "      <th>Traffic_Signal_True</th>\n",
       "      <th>Sunrise_Sunset_Day</th>\n",
       "      <th>Sunrise_Sunset_Night</th>\n",
       "    </tr>\n",
       "  </thead>\n",
       "  <tbody>\n",
       "    <tr>\n",
       "      <th>0</th>\n",
       "      <td>3</td>\n",
       "      <td>2016-02-08 05:46:00</td>\n",
       "      <td>0.01</td>\n",
       "      <td>91.0</td>\n",
       "      <td>29.68</td>\n",
       "      <td>10.0</td>\n",
       "      <td>NaN</td>\n",
       "      <td>False</td>\n",
       "      <td>False</td>\n",
       "      <td>1</td>\n",
       "      <td>0</td>\n",
       "      <td>1</td>\n",
       "      <td>0</td>\n",
       "      <td>1</td>\n",
       "      <td>0</td>\n",
       "      <td>0</td>\n",
       "      <td>1</td>\n",
       "    </tr>\n",
       "    <tr>\n",
       "      <th>1</th>\n",
       "      <td>2</td>\n",
       "      <td>2016-02-08 06:07:59</td>\n",
       "      <td>0.01</td>\n",
       "      <td>100.0</td>\n",
       "      <td>29.65</td>\n",
       "      <td>10.0</td>\n",
       "      <td>NaN</td>\n",
       "      <td>False</td>\n",
       "      <td>False</td>\n",
       "      <td>1</td>\n",
       "      <td>0</td>\n",
       "      <td>1</td>\n",
       "      <td>0</td>\n",
       "      <td>1</td>\n",
       "      <td>0</td>\n",
       "      <td>0</td>\n",
       "      <td>1</td>\n",
       "    </tr>\n",
       "    <tr>\n",
       "      <th>2</th>\n",
       "      <td>2</td>\n",
       "      <td>2016-02-08 06:49:27</td>\n",
       "      <td>0.01</td>\n",
       "      <td>100.0</td>\n",
       "      <td>29.67</td>\n",
       "      <td>10.0</td>\n",
       "      <td>3.5</td>\n",
       "      <td>False</td>\n",
       "      <td>False</td>\n",
       "      <td>1</td>\n",
       "      <td>0</td>\n",
       "      <td>1</td>\n",
       "      <td>0</td>\n",
       "      <td>0</td>\n",
       "      <td>1</td>\n",
       "      <td>0</td>\n",
       "      <td>1</td>\n",
       "    </tr>\n",
       "    <tr>\n",
       "      <th>3</th>\n",
       "      <td>3</td>\n",
       "      <td>2016-02-08 07:23:34</td>\n",
       "      <td>0.01</td>\n",
       "      <td>96.0</td>\n",
       "      <td>29.64</td>\n",
       "      <td>9.0</td>\n",
       "      <td>4.6</td>\n",
       "      <td>False</td>\n",
       "      <td>False</td>\n",
       "      <td>1</td>\n",
       "      <td>0</td>\n",
       "      <td>1</td>\n",
       "      <td>0</td>\n",
       "      <td>1</td>\n",
       "      <td>0</td>\n",
       "      <td>0</td>\n",
       "      <td>1</td>\n",
       "    </tr>\n",
       "    <tr>\n",
       "      <th>4</th>\n",
       "      <td>2</td>\n",
       "      <td>2016-02-08 07:39:07</td>\n",
       "      <td>0.01</td>\n",
       "      <td>89.0</td>\n",
       "      <td>29.65</td>\n",
       "      <td>6.0</td>\n",
       "      <td>3.5</td>\n",
       "      <td>False</td>\n",
       "      <td>False</td>\n",
       "      <td>1</td>\n",
       "      <td>0</td>\n",
       "      <td>1</td>\n",
       "      <td>0</td>\n",
       "      <td>0</td>\n",
       "      <td>1</td>\n",
       "      <td>1</td>\n",
       "      <td>0</td>\n",
       "    </tr>\n",
       "  </tbody>\n",
       "</table>\n",
       "</div>"
      ],
      "text/plain": [
       "   Severity           Start_Time  Distance(mi)  Humidity(%)  Pressure(in)  \\\n",
       "0         3  2016-02-08 05:46:00          0.01         91.0         29.68   \n",
       "1         2  2016-02-08 06:07:59          0.01        100.0         29.65   \n",
       "2         2  2016-02-08 06:49:27          0.01        100.0         29.67   \n",
       "3         3  2016-02-08 07:23:34          0.01         96.0         29.64   \n",
       "4         2  2016-02-08 07:39:07          0.01         89.0         29.65   \n",
       "\n",
       "   Visibility(mi)  Wind_Speed(mph)  Crossing  Railway  Junction_ False  \\\n",
       "0            10.0              NaN     False    False                1   \n",
       "1            10.0              NaN     False    False                1   \n",
       "2            10.0              3.5     False    False                1   \n",
       "3             9.0              4.6     False    False                1   \n",
       "4             6.0              3.5     False    False                1   \n",
       "\n",
       "   Junction_ True  Stop_False  Stop_True  Traffic_Signal_False  \\\n",
       "0               0           1          0                     1   \n",
       "1               0           1          0                     1   \n",
       "2               0           1          0                     0   \n",
       "3               0           1          0                     1   \n",
       "4               0           1          0                     0   \n",
       "\n",
       "   Traffic_Signal_True  Sunrise_Sunset_Day  Sunrise_Sunset_Night  \n",
       "0                    0                   0                     1  \n",
       "1                    0                   0                     1  \n",
       "2                    1                   0                     1  \n",
       "3                    0                   0                     1  \n",
       "4                    1                   1                     0  "
      ]
     },
     "execution_count": 2,
     "metadata": {},
     "output_type": "execute_result"
    }
   ],
   "source": [
    "#Columna \"Junction\"\n",
    "data_frame_dummies_junction = pd.get_dummies(data_frame['Junction'])\n",
    "data_frame_dummies_junction = data_frame_dummies_junction.rename(columns=lambda s: \"Junction_ {}\".format(s))\n",
    "data_frame = data_frame.drop(['Junction'], axis = 1)\n",
    "data_frame = data_frame.join(data_frame_dummies_junction)\n",
    "\n",
    "#Columna \"Stop\"\n",
    "data_frame_dummies_stop = pd.get_dummies(data_frame['Stop'])\n",
    "data_frame_dummies_stop = data_frame_dummies_stop.rename(columns=lambda s: \"Stop_{}\".format(s))\n",
    "data_frame = data_frame.drop(['Stop'], axis = 1)\n",
    "data_frame = data_frame.join(data_frame_dummies_stop)\n",
    "\n",
    "#Columna \"Traffic_Signal\"\n",
    "data_frame_dummies_traffic_signal = pd.get_dummies(data_frame['Traffic_Signal'])\n",
    "data_frame_dummies_traffic_signal = data_frame_dummies_traffic_signal.rename(columns=lambda s: \"Traffic_Signal_{}\".format(s))\n",
    "data_frame = data_frame.drop(['Traffic_Signal'], axis = 1)\n",
    "data_frame = data_frame.join(data_frame_dummies_traffic_signal)\n",
    "\n",
    "#Columna \"Sunrise_Sunset\"\n",
    "data_frame_dummies_sunrise_sunset = pd.get_dummies(data_frame['Sunrise_Sunset'])\n",
    "data_frame_dummies_sunrise_sunset = data_frame_dummies_sunrise_sunset.rename(columns=lambda s: \"Sunrise_Sunset_\" + s)\n",
    "data_frame = data_frame.drop(['Sunrise_Sunset'], axis = 1)\n",
    "data_frame = data_frame.join(data_frame_dummies_sunrise_sunset)\n",
    "\n",
    "\n",
    "data_frame.head(5)"
   ]
  },
  {
   "cell_type": "code",
   "execution_count": 3,
   "metadata": {},
   "outputs": [],
   "source": [
    "data_frame[\"Start_Time\"] = pd.to_datetime(data_frame[\"Start_Time\"])\n",
    "\n",
    "# Extract year, month, weekday and day\n",
    "data_frame[\"Year\"] = data_frame[\"Start_Time\"].dt.year\n",
    "data_frame[\"Month\"] = data_frame[\"Start_Time\"].dt.month\n",
    "data_frame[\"Weekday\"] = data_frame[\"Start_Time\"].dt.weekday\n",
    "data_frame[\"Day\"] = data_frame[\"Start_Time\"].dt.day\n",
    "\n",
    "# Extract hour and minute\n",
    "data_frame[\"Hour\"] = data_frame[\"Start_Time\"].dt.hour\n",
    "data_frame[\"Minute\"] = data_frame[\"Start_Time\"].dt.minute\n",
    "\n",
    "data_frame.drop(\"Start_Time\",axis=1, inplace=True)\n"
   ]
  },
  {
   "cell_type": "code",
   "execution_count": 4,
   "metadata": {},
   "outputs": [],
   "source": [
    "data_frame.dropna(axis=0, inplace=True)"
   ]
  },
  {
   "cell_type": "code",
   "execution_count": 5,
   "metadata": {},
   "outputs": [
    {
     "data": {
      "image/png": "[encoded data removed]",
      "text/plain": [
       "<Figure size 1080x720 with 2 Axes>"
      ]
     },
     "metadata": {
      "needs_background": "light"
     },
     "output_type": "display_data"
    }
   ],
   "source": [
    "correlation_matrix = data_frame.corr()\n",
    "\n",
    "plt.figure(figsize=(15, 10))\n",
    "sns.heatmap(correlation_matrix, vmin=-1, vmax=1, cmap=\"seismic\")\n",
    "plt.gca().patch.set(hatch=\"X\", edgecolor=\"#666\")\n",
    "plt.show()"
   ]
  },
  {
   "cell_type": "markdown",
   "metadata": {},
   "source": [
    "## 3- Aplicación de Modelos - Linear SVC."
   ]
  },
  {
   "cell_type": "markdown",
   "metadata": {},
   "source": [
    "### _3.1- Se divide el dataset en x (datos sin el objetivo) e y (objetivo)._"
   ]
  },
  {
   "cell_type": "code",
   "execution_count": 6,
   "metadata": {},
   "outputs": [
    {
     "name": "stdout",
     "output_type": "stream",
     "text": [
      "Random under-sampling:\n",
      "1    805\n",
      "2    805\n",
      "3    805\n",
      "4    805\n",
      "Name: Severity, dtype: int64\n"
     ]
    },
    {
     "data": {
      "image/png": "[encoded data removed]",
      "text/plain": [
       "<Figure size 432x288 with 1 Axes>"
      ]
     },
     "metadata": {
      "needs_background": "light"
     },
     "output_type": "display_data"
    }
   ],
   "source": [
    "data_frame.drop(\"Crossing\",axis=1, inplace=True)\n",
    "data_frame.drop(\"Traffic_Signal_True\",axis=1, inplace=True)\n",
    "data_frame.drop(\"Visibility(mi)\",axis=1, inplace=True)\n",
    "\n",
    "count_class_1, count_class_2, count_class_3, count_class_4 = data_frame[\"Severity\"].value_counts()\n",
    "\n",
    "df_severity_1 = data_frame[data_frame['Severity'] == 1]\n",
    "df_severity_2 = data_frame[data_frame['Severity'] == 2]\n",
    "df_severity_3 = data_frame[data_frame['Severity'] == 3]\n",
    "df_severity_4 = data_frame[data_frame['Severity'] == 4]\n",
    "\n",
    "df_severity_1_under = df_severity_1.sample(805)\n",
    "df_severity_2_under = df_severity_2.sample(805)\n",
    "df_severity_3_under = df_severity_3.sample(805)\n",
    "df_severity_4_under = df_severity_4.sample(805)\n",
    "\n",
    "df_test_under = pd.concat([df_severity_1_under, df_severity_2_under, df_severity_3_under, df_severity_4_under], axis=0)\n",
    "\n",
    "print('Random under-sampling:')\n",
    "print(df_test_under['Severity'].value_counts())\n",
    "\n",
    "df_test_under['Severity'].value_counts().plot(kind='bar', title='Count (Severity)')\n",
    "\n",
    "x_sample = df_test_under.drop(\"Severity\", axis=1)\n",
    "y_sample = df_test_under[\"Severity\"]"
   ]
  },
  {
   "cell_type": "code",
   "execution_count": 7,
   "metadata": {},
   "outputs": [
    {
     "data": {
      "text/plain": [
       "'from imblearn.under_sampling import RandomUnderSampler\\nfrom imblearn.over_sampling import RandomOverSampler\\n\\nrus = RandomUnderSampler(random_state=random_state)\\nX_rus, y_rus = rus.fit_resample(data_frame.drop(\"Severity\", axis=1), data_frame[\"Severity\"])'"
      ]
     },
     "execution_count": 7,
     "metadata": {},
     "output_type": "execute_result"
    }
   ],
   "source": [
    "\"\"\"from imblearn.under_sampling import RandomUnderSampler\n",
    "from imblearn.over_sampling import RandomOverSampler\n",
    "\n",
    "rus = RandomUnderSampler(random_state=random_state)\n",
    "X_rus, y_rus = rus.fit_resample(data_frame.drop(\"Severity\", axis=1), data_frame[\"Severity\"])\"\"\""
   ]
  },
  {
   "cell_type": "markdown",
   "metadata": {},
   "source": [
    "### _3.2- Se aplica Grid Search para conseguir el parámetro de C que mejor ajusta al modelo._"
   ]
  },
  {
   "cell_type": "code",
   "execution_count": 8,
   "metadata": {},
   "outputs": [
    {
     "name": "stdout",
     "output_type": "stream",
     "text": [
      "Fitting 5 folds for each of 12 candidates, totalling 60 fits\n",
      "[LibSVM]Mejor valor de C:\n",
      "{'C': 0.1, 'kernel': 'linear'}\n",
      "Train score: 0.4403726708074534\n"
     ]
    }
   ],
   "source": [
    "parameters = {'C': [0.1, 0.2, 0.5, 1],'kernel': ['rbf', 'sigmoid', 'linear']}\n",
    "modelSVC = svm.SVC(verbose=5, random_state=random_state)\n",
    "\n",
    "grid = GridSearchCV(modelSVC, parameters, verbose=5, n_jobs=-1)\n",
    "\n",
    "grid.fit(x_sample, y_sample)\n",
    "\n",
    "print(\"Mejor valor de C:\")\n",
    "print(grid.best_params_)\n",
    "print(\"Train score:\", grid.score(x_sample, y_sample))"
   ]
  },
  {
   "cell_type": "markdown",
   "metadata": {},
   "source": [
    "### _3.3- Una vez conseguido el mejor valor de C, se lo utiliza para entrenar al modelo con el mismo._"
   ]
  },
  {
   "cell_type": "code",
   "execution_count": 11,
   "metadata": {},
   "outputs": [
    {
     "name": "stdout",
     "output_type": "stream",
     "text": [
      "Train score: 0.45175983436853\n",
      "Test score: 0.4161490683229814\n",
      "YTRAIN MAX: 4\n",
      "YTRAIN MIN: 1\n",
      "YTEST MAX: 4\n",
      "YTEST MIN: 1\n"
     ]
    }
   ],
   "source": [
    "xtrain, xtest, ytrain, ytest = train_test_split(x_sample, y_sample, stratify=y_sample, random_state=random_state)\n",
    "\n",
    "linear_svc = svm.SVC(**grid.best_params_,random_state=random_state)\n",
    "\n",
    "linear_svc.fit(xtrain, ytrain)\n",
    "\n",
    "print(\"Train score:\", linear_svc.score(xtrain, ytrain))\n",
    "print(\"Test score:\", linear_svc.score(xtest, ytest))\n",
    "print(\"YTRAIN MAX: {}\".format(np.max(ytrain)))\n",
    "print(\"YTRAIN MIN: {}\".format(np.min(ytrain)))\n",
    "print(\"YTEST MAX: {}\".format(np.max(ytest)))\n",
    "print(\"YTEST MIN: {}\".format(np.min(ytest)))\n"
   ]
  },
  {
   "cell_type": "markdown",
   "metadata": {},
   "source": [
    "### _3.4- Se predicen los resultados de Severity de acuerdo a los datos de testing, y se proyecta su resultado en una matriz de confusión._"
   ]
  },
  {
   "cell_type": "code",
   "execution_count": 12,
   "metadata": {},
   "outputs": [
    {
     "name": "stdout",
     "output_type": "stream",
     "text": [
      "YPRED MAX: 4\n",
      "YPRED MIN: 1\n",
      "YTRAIN MAX: 4\n",
      "YTRAIN MIN: 1\n",
      "YTEST MAX: 4\n",
      "YTEST MIN: 1\n"
     ]
    },
    {
     "data": {
      "image/png": "[encoded data removed]",
      "text/plain": [
       "<Figure size 576x360 with 2 Axes>"
      ]
     },
     "metadata": {
      "needs_background": "light"
     },
     "output_type": "display_data"
    },
    {
     "name": "stdout",
     "output_type": "stream",
     "text": [
      "3    202\n",
      "2    201\n",
      "1    201\n",
      "4    201\n",
      "Name: Severity, dtype: int64\n"
     ]
    }
   ],
   "source": [
    "y_pred = linear_svc.predict(xtest)\n",
    "confmat = confusion_matrix(y_true=ytest, y_pred=y_pred)\n",
    "\n",
    "print(\"YPRED MAX: {}\".format(np.max(y_pred)))\n",
    "print(\"YPRED MIN: {}\".format(np.min(y_pred)))\n",
    "print(\"YTRAIN MAX: {}\".format(np.max(ytrain)))\n",
    "print(\"YTRAIN MIN: {}\".format(np.min(ytrain)))\n",
    "print(\"YTEST MAX: {}\".format(np.max(ytest)))\n",
    "print(\"YTEST MIN: {}\".format(np.min(ytest)))\n",
    "\n",
    "index = [\"Actual Severity 1\", \"Actual Severity 2\", \"Actual Severity 3\", \"Actual Severity 4\"]\n",
    "columns = [\"Predicted Severity 1\", \"Predicted Severity 2\", \"Predicted Severity 3\", \"Predicted Severity 4\"]\n",
    "conf_matrix = pd.DataFrame(data=confmat, columns=columns, index=index)\n",
    "plt.figure(figsize=(8, 5))\n",
    "sns.heatmap(conf_matrix, annot=True, fmt=\"d\", cmap=\"YlGnBu\")\n",
    "plt.title(\"Confusion Matrix - Support Vector Machine\")\n",
    "plt.show()\n",
    "print(ytest.value_counts())"
   ]
  }
 ],
 "metadata": {
  "interpreter": {
   "hash": "02de5609ef162b6bcc51dd429fd31b9a1f163c414526741362218fd7f2e354ad"
  },
  "kernelspec": {
   "display_name": "Python 3.9.6 64-bit",
   "name": "python3"
  },
  "language_info": {
   "codemirror_mode": {
    "name": "ipython",
    "version": 3
   },
   "file_extension": ".py",
   "mimetype": "text/x-python",
   "name": "python",
   "nbconvert_exporter": "python",
   "pygments_lexer": "ipython3",
   "version": "3.9.6"
  },
  "orig_nbformat": 4
 },
 "nbformat": 4,
 "nbformat_minor": 2
}
