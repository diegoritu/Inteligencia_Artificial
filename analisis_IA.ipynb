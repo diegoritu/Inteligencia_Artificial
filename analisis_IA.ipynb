{
 "cells": [
  {
   "cell_type": "markdown",
   "metadata": {},
   "source": [
    "# <ins> Análisis de datos de accidentes viales </ins>"
   ]
  },
  {
   "cell_type": "markdown",
   "metadata": {},
   "source": [
    "## 1- Importando el dataset"
   ]
  },
  {
   "cell_type": "markdown",
   "metadata": {},
   "source": [
    "### _Se importa el dataset con Pandas y se definen los nombres de las columnas, para poder referenciarlas posteriormente._"
   ]
  },
  {
   "cell_type": "code",
   "execution_count": null,
   "metadata": {},
   "outputs": [],
   "source": [
    "%matplotlib inline\n",
    "import pandas as pd\n",
    "from sklearn import svm\n",
    "from sklearn.metrics import classification_report, confusion_matrix, accuracy_score, f1_score, roc_curve\n",
    "from sklearn.model_selection import train_test_split, GridSearchCV\n",
    "from matplotlib import pyplot as plt\n",
    "import seaborn as sns\n",
    "import numpy as np\n",
    "\n",
    "\n",
    "pd.set_option('display.max_columns', None)\n",
    "\n",
    "#Importamos solamente los atributos que nos interesa analizar.\n",
    "data_frame = pd.read_csv(\"Accidente.csv\", header=0 ,usecols=[\"Severity\",\"Junction\", \"Stop\", \"Traffic_Signal\",\n",
    " \"Sunrise_Sunset\", \"Visibility(mi)\", \"Pressure(in)\",\"Humidity(%)\",\"Wind_Speed(mph)\"])\n",
    "\n",
    "#Definimos la semilla que se utilizará a lo largo del proyecto.\n",
    "random_state=42"
   ]
  },
  {
   "cell_type": "markdown",
   "metadata": {},
   "source": [
    "## 2- Data Processing."
   ]
  },
  {
   "cell_type": "markdown",
   "metadata": {},
   "source": [
    "### _Se aplica One-Hot-Encoding para tratar los datos categóricos de forma adecuada para los modelos._"
   ]
  },
  {
   "cell_type": "code",
   "execution_count": null,
   "metadata": {},
   "outputs": [],
   "source": [
    "#Columna \"Junction\"\n",
    "data_frame_dummies_junction = pd.get_dummies(data_frame['Junction'])\n",
    "data_frame_dummies_junction = data_frame_dummies_junction.rename(columns=lambda s: \"Junction_ {}\".format(s))\n",
    "data_frame = data_frame.drop(['Junction'], axis = 1)\n",
    "data_frame = data_frame.join(data_frame_dummies_junction)\n",
    "\n",
    "#Columna \"Stop\"\n",
    "data_frame_dummies_stop = pd.get_dummies(data_frame['Stop'])\n",
    "data_frame_dummies_stop = data_frame_dummies_stop.rename(columns=lambda s: \"Stop_{}\".format(s))\n",
    "data_frame = data_frame.drop(['Stop'], axis = 1)\n",
    "data_frame = data_frame.join(data_frame_dummies_stop)\n",
    "\n",
    "#Columna \"Traffic_Signal\"\n",
    "data_frame_dummies_traffic_signal = pd.get_dummies(data_frame['Traffic_Signal'])\n",
    "data_frame_dummies_traffic_signal = data_frame_dummies_traffic_signal.rename(columns=lambda s: \"Traffic_Signal_{}\".format(s))\n",
    "data_frame = data_frame.drop(['Traffic_Signal'], axis = 1)\n",
    "data_frame = data_frame.join(data_frame_dummies_traffic_signal)\n",
    "\n",
    "#Columna \"Sunrise_Sunset\"\n",
    "data_frame_dummies_sunrise_sunset = pd.get_dummies(data_frame['Sunrise_Sunset'])\n",
    "data_frame_dummies_sunrise_sunset = data_frame_dummies_sunrise_sunset.rename(columns=lambda s: \"Sunrise_Sunset_\" + s)\n",
    "data_frame = data_frame.drop(['Sunrise_Sunset'], axis = 1)\n",
    "data_frame = data_frame.join(data_frame_dummies_sunrise_sunset)\n",
    "\n",
    "\n",
    "data_frame.head(5)"
   ]
  },
  {
   "cell_type": "code",
   "execution_count": null,
   "metadata": {},
   "outputs": [],
   "source": [
    "data_frame.dropna(axis=0, inplace=True)"
   ]
  },
  {
   "cell_type": "markdown",
   "metadata": {},
   "source": [
    "## 3- Aplicación de Modelos - Linear SVC."
   ]
  },
  {
   "cell_type": "markdown",
   "metadata": {},
   "source": [
    "### _3.1- Se divide el dataset en x (datos sin el objetivo) e y (objetivo)._"
   ]
  },
  {
   "cell_type": "code",
   "execution_count": null,
   "metadata": {},
   "outputs": [],
   "source": [
    "sample = data_frame.sample(5_000, random_state=random_state)\n",
    "print(\"SIZE: {}\".format(sample.size))\n",
    "y_sample = sample[\"Severity\"]\n",
    "x_sample = sample.drop(\"Severity\", axis=1)\n",
    "\n",
    "print(\"YSAMPLE MAX: {}\".format(np.max(y_sample)))\n",
    "print(\"YSAMPLE MIN: {}\".format(np.min(y_sample)))\n",
    "\n"
   ]
  },
  {
   "cell_type": "markdown",
   "metadata": {},
   "source": [
    "### _3.2- Se aplica Grid Search para conseguir el parámetro de C que mejor ajusta al modelo._"
   ]
  },
  {
   "cell_type": "code",
   "execution_count": null,
   "metadata": {},
   "outputs": [],
   "source": [
    "parameters = [{\"kernel\": [\"linear\", \"rbf\", \"sigmoid\"], \"C\": [.2, .5, .8, 1.]}, {\"kernel\": [\"poly\"], \"C\": [.2, .5, .8, 1.], \"degree\": [2, 3, 4]}]\n",
    "modelSVC = svm.SVC(verbose=5, random_state=random_state)\n",
    "\n",
    "grid = GridSearchCV(modelSVC, parameters, verbose=5, n_jobs=-1)\n",
    "\n",
    "grid.fit(x_sample, y_sample)\n",
    "\n",
    "print(\"Mejor valor de C:\")\n",
    "print(grid.best_params_)\n",
    "print(\"Train score:\", grid.score(x_sample, y_sample))"
   ]
  },
  {
   "cell_type": "markdown",
   "metadata": {},
   "source": [
    "### _3.3- Una vez conseguido el mejor valor de C, se lo utiliza para entrenar al modelo con el mismo._"
   ]
  },
  {
   "cell_type": "code",
   "execution_count": null,
   "metadata": {},
   "outputs": [],
   "source": [
    "xtrain, xtest, ytrain, ytest = train_test_split(x_sample, y_sample, stratify=y_sample, random_state=random_state)\n",
    "\n",
    "linear_svc = svm.SVC(**grid.best_params_,random_state=random_state)\n",
    "linear_svc.fit(xtrain, ytrain)\n",
    "\n",
    "print(\"Train score:\", linear_svc.score(xtrain, ytrain))\n",
    "print(\"Test score:\", linear_svc.score(xtest, ytest))\n",
    "print(\"YTRAIN MAX: {}\".format(np.max(ytrain)))\n",
    "print(\"YTRAIN MIN: {}\".format(np.min(ytrain)))\n",
    "print(\"YTEST MAX: {}\".format(np.max(ytest)))\n",
    "print(\"YTEST MIN: {}\".format(np.min(ytest)))\n"
   ]
  },
  {
   "cell_type": "markdown",
   "metadata": {},
   "source": [
    "### _3.4- Se predicen los resultados de Severity de acuerdo a los datos de testing, y se proyecta su resultado en una matriz de confusión._"
   ]
  },
  {
   "cell_type": "code",
   "execution_count": null,
   "metadata": {},
   "outputs": [],
   "source": [
    "y_pred = linear_svc.predict(xtest)\n",
    "confmat = confusion_matrix(y_true=ytest, y_pred=y_pred)\n",
    "\n",
    "print(\"YPRED MAX: {}\".format(np.max(y_pred)))\n",
    "print(\"YPRED MIN: {}\".format(np.min(y_pred)))\n",
    "print(\"YTRAIN MAX: {}\".format(np.max(ytrain)))\n",
    "print(\"YTRAIN MIN: {}\".format(np.min(ytrain)))\n",
    "print(\"YTEST MAX: {}\".format(np.max(ytest)))\n",
    "print(\"YTEST MIN: {}\".format(np.min(ytest)))\n",
    "\n",
    "index = [\"Actual Severity 1\", \"Actual Severity 2\", \"Actual Severity 3\", \"Actual Severity 4\"]\n",
    "columns = [\"Predicted Severity 1\", \"Predicted Severity 2\", \"Predicted Severity 3\", \"Predicted Severity 4\"]\n",
    "conf_matrix = pd.DataFrame(data=confmat, columns=columns, index=index)\n",
    "plt.figure(figsize=(8, 5))\n",
    "sns.heatmap(conf_matrix, annot=True, fmt=\"d\", cmap=\"YlGnBu\")\n",
    "plt.title(\"Confusion Matrix - Support Vector Machine\")\n",
    "plt.show()\n",
    "print(ytest.value_counts())"
   ]
  }
 ],
 "metadata": {
  "interpreter": {
   "hash": "02de5609ef162b6bcc51dd429fd31b9a1f163c414526741362218fd7f2e354ad"
  },
  "kernelspec": {
   "display_name": "Python 3.9.6 64-bit",
   "name": "python3"
  },
  "language_info": {
   "codemirror_mode": {
    "name": "ipython",
    "version": 3
   },
   "file_extension": ".py",
   "mimetype": "text/x-python",
   "name": "python",
   "nbconvert_exporter": "python",
   "pygments_lexer": "ipython3",
   "version": "3.9.6"
  },
  "orig_nbformat": 4
 },
 "nbformat": 4,
 "nbformat_minor": 2
}
